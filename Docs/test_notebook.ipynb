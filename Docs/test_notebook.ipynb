{
 "cells": [
  {
   "cell_type": "markdown",
   "metadata": {},
   "source": [
    "# Section 1 \n",
    "this is a heading \n",
    "\n",
    "## Section  1.2 \n",
    "This is a sub section \n",
    "\n"
   ]
  },
  {
   "cell_type": "markdown",
   "metadata": {},
   "source": [
    "## 1.3. Image \n",
    "\n",
    "![](figs/topology.png)\n"
   ]
  },
  {
   "cell_type": "markdown",
   "metadata": {},
   "source": [
    "## 1.4. Equation \n",
    "\n",
    "$ f(x) = \\frac{sin(x)}{K_{time}}$"
   ]
  },
  {
   "cell_type": "markdown",
   "metadata": {},
   "source": [
    "## 1.5. Tables"
   ]
  },
  {
   "cell_type": "markdown",
   "metadata": {},
   "source": [
    "| routing protocols | SPA |\n",
    "|---|---|\n",
    "| RIP | Bellman ford | \n",
    "| EIGRP | DUAL  |\n",
    "| OSPF | SPF |\n",
    "| ISIS | SPF | "
   ]
  },
  {
   "cell_type": "markdown",
   "metadata": {},
   "source": [
    "The $R_1$ is a _backbne router_ and the $R_5$ is under __Area 1__. The `show ip ospf neighbor` command shows all OSPF neighbours."
   ]
  },
  {
   "cell_type": "markdown",
   "metadata": {},
   "source": [
    "## 1.6. Scripts \n",
    "### 1.6.1. Standalone Scripts\n",
    "\n",
    "```\n",
    "conf t\n",
    "   router os {PID}\n",
    "       router-id {RID}\n",
    "       pass def\n",
    "       net {NET_ID} {MASK} area {AID}\n",
    "       no pass {IFACE}\n",
    "    exit\n",
    "end\n",
    "```\n",
    "### 1.6.2. Standalone scripts from known programming language (python)"
   ]
  },
  {
   "cell_type": "code",
   "execution_count": 4,
   "metadata": {},
   "outputs": [
    {
     "name": "stdout",
     "output_type": "stream",
     "text": [
      "Hello someone\n"
     ]
    }
   ],
   "source": [
    "def hello():\n",
    "    name = input('Enter your name: ')\n",
    "    print(f'Hello {name}')\n",
    "\n",
    "hello()"
   ]
  },
  {
   "cell_type": "code",
   "execution_count": 3,
   "metadata": {},
   "outputs": [
    {
     "name": "stdout",
     "output_type": "stream",
     "text": [
      "Hello Basma...\n"
     ]
    }
   ],
   "source": [
    "def hello():\n",
    "    name = input('Enter your name: ')\n",
    "    print(f'Hello {name}...')\n",
    "\n",
    "hello()"
   ]
  },
  {
   "cell_type": "markdown",
   "metadata": {},
   "source": [
    "this is another cell"
   ]
  },
  {
   "cell_type": "markdown",
   "metadata": {},
   "source": [
    "this is a cell "
   ]
  },
  {
   "cell_type": "markdown",
   "metadata": {},
   "source": [
    "## 1.7. Bullets and Numbres\n",
    "\n",
    "* section 1\n",
    "    * section 1.1\n",
    "    * section 1.2.\n",
    "    * section 1.3\n",
    "* Section 2\n",
    "    * section 2.1.\n",
    "    * section 2.2.\n",
    "    \n",
    "1. section 1\n",
    "2. section 2"
   ]
  },
  {
   "cell_type": "markdown",
   "metadata": {},
   "source": []
  }
 ],
 "metadata": {
  "kernelspec": {
   "display_name": "Python 3.10.0 64-bit",
   "language": "python",
   "name": "python3"
  },
  "language_info": {
   "codemirror_mode": {
    "name": "ipython",
    "version": 3
   },
   "file_extension": ".py",
   "mimetype": "text/x-python",
   "name": "python",
   "nbconvert_exporter": "python",
   "pygments_lexer": "ipython3",
   "version": "3.10.0"
  },
  "orig_nbformat": 4,
  "vscode": {
   "interpreter": {
    "hash": "0976154a26863e578314ad5834e0d6ce38b742f452dd11bbe0b3fd5514356396"
   }
  }
 },
 "nbformat": 4,
 "nbformat_minor": 2
}
